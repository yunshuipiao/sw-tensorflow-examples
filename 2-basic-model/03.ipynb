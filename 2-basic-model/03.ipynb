{
 "cells": [
  {
   "cell_type": "markdown",
   "metadata": {},
   "source": [
    "## 近邻算法 识别手写数字"
   ]
  },
  {
   "cell_type": "code",
   "execution_count": 28,
   "metadata": {},
   "outputs": [
    {
     "name": "stdout",
     "output_type": "stream",
     "text": [
      "Extracting /tmp/data/train-images-idx3-ubyte.gz\n",
      "Extracting /tmp/data/train-labels-idx1-ubyte.gz\n",
      "Extracting /tmp/data/t10k-images-idx3-ubyte.gz\n",
      "Extracting /tmp/data/t10k-labels-idx1-ubyte.gz\n"
     ]
    }
   ],
   "source": [
    "import numpy as np\n",
    "import tensorflow as tf\n",
    "\n",
    "from tensorflow.examples.tutorials.mnist import input_data\n",
    "mnist = input_data.read_data_sets(\"/tmp/data/\", one_hot=True)"
   ]
  },
  {
   "cell_type": "code",
   "execution_count": 29,
   "metadata": {},
   "outputs": [],
   "source": [
    "# 使用部分数据进行实验\n",
    "Xtr, Ytr = mnist.train.next_batch(5000)\n",
    "Xte, Yte = mnist.test.next_batch(200)"
   ]
  },
  {
   "cell_type": "code",
   "execution_count": 30,
   "metadata": {},
   "outputs": [],
   "source": [
    "# 输入数据\n",
    "xtr = tf.placeholder('float', [None, 784])\n",
    "xte = tf.placeholder('float', [784])"
   ]
  },
  {
   "cell_type": "code",
   "execution_count": 31,
   "metadata": {},
   "outputs": [],
   "source": [
    "# 近邻算法计算l1 距离，即绝对值\n",
    "distance = tf.reduce_sum(tf.abs(tf.add(xtr, tf.negative(xte))), reduction_indices=1)\n",
    "pred = tf.argmin(distance, 0)\n"
   ]
  },
  {
   "cell_type": "code",
   "execution_count": 32,
   "metadata": {},
   "outputs": [],
   "source": [
    "# init\n",
    "init = tf.global_variables_initializer()"
   ]
  },
  {
   "cell_type": "code",
   "execution_count": 36,
   "metadata": {},
   "outputs": [
    {
     "name": "stdout",
     "output_type": "stream",
     "text": [
      "Test 0 Prediction 9 True class: 9\n",
      "Test 1 Prediction 7 True class: 7\n",
      "Test 2 Prediction 1 True class: 1\n",
      "Test 3 Prediction 4 True class: 4\n",
      "Test 4 Prediction 2 True class: 2\n",
      "Test 5 Prediction 7 True class: 0\n",
      "Test 6 Prediction 2 True class: 2\n",
      "Test 7 Prediction 1 True class: 1\n",
      "Test 8 Prediction 9 True class: 9\n",
      "Test 9 Prediction 3 True class: 3\n",
      "Test 10 Prediction 5 True class: 8\n",
      "Test 11 Prediction 1 True class: 1\n",
      "Test 12 Prediction 5 True class: 5\n",
      "Test 13 Prediction 1 True class: 1\n",
      "Test 14 Prediction 2 True class: 2\n",
      "Test 15 Prediction 6 True class: 6\n",
      "Test 16 Prediction 4 True class: 4\n",
      "Test 17 Prediction 9 True class: 9\n",
      "Test 18 Prediction 4 True class: 4\n",
      "Test 19 Prediction 4 True class: 4\n",
      "Test 20 Prediction 8 True class: 8\n",
      "Test 21 Prediction 6 True class: 6\n",
      "Test 22 Prediction 8 True class: 8\n",
      "Test 23 Prediction 6 True class: 6\n",
      "Test 24 Prediction 7 True class: 7\n",
      "Test 25 Prediction 7 True class: 7\n",
      "Test 26 Prediction 2 True class: 2\n",
      "Test 27 Prediction 8 True class: 8\n",
      "Test 28 Prediction 8 True class: 8\n",
      "Test 29 Prediction 9 True class: 9\n",
      "Test 30 Prediction 2 True class: 2\n",
      "Test 31 Prediction 2 True class: 2\n",
      "Test 32 Prediction 3 True class: 3\n",
      "Test 33 Prediction 0 True class: 0\n",
      "Test 34 Prediction 2 True class: 2\n",
      "Test 35 Prediction 5 True class: 5\n",
      "Test 36 Prediction 9 True class: 9\n",
      "Test 37 Prediction 3 True class: 3\n",
      "Test 38 Prediction 6 True class: 6\n",
      "Test 39 Prediction 2 True class: 2\n",
      "Test 40 Prediction 7 True class: 7\n",
      "Test 41 Prediction 6 True class: 6\n",
      "Test 42 Prediction 3 True class: 3\n",
      "Test 43 Prediction 3 True class: 3\n",
      "Test 44 Prediction 1 True class: 1\n",
      "Test 45 Prediction 7 True class: 7\n",
      "Test 46 Prediction 9 True class: 9\n",
      "Test 47 Prediction 1 True class: 1\n",
      "Test 48 Prediction 1 True class: 1\n",
      "Test 49 Prediction 4 True class: 4\n",
      "Test 50 Prediction 5 True class: 5\n",
      "Test 51 Prediction 3 True class: 3\n",
      "Test 52 Prediction 1 True class: 1\n",
      "Test 53 Prediction 7 True class: 9\n",
      "Test 54 Prediction 8 True class: 8\n",
      "Test 55 Prediction 2 True class: 2\n",
      "Test 56 Prediction 9 True class: 9\n",
      "Test 57 Prediction 0 True class: 0\n",
      "Test 58 Prediction 7 True class: 7\n",
      "Test 59 Prediction 9 True class: 9\n",
      "Test 60 Prediction 6 True class: 6\n",
      "Test 61 Prediction 6 True class: 6\n",
      "Test 62 Prediction 2 True class: 2\n",
      "Test 63 Prediction 7 True class: 7\n",
      "Test 64 Prediction 0 True class: 0\n",
      "Test 65 Prediction 1 True class: 1\n",
      "Test 66 Prediction 4 True class: 4\n",
      "Test 67 Prediction 3 True class: 3\n",
      "Test 68 Prediction 9 True class: 9\n",
      "Test 69 Prediction 3 True class: 2\n",
      "Test 70 Prediction 7 True class: 7\n",
      "Test 71 Prediction 3 True class: 3\n",
      "Test 72 Prediction 3 True class: 3\n",
      "Test 73 Prediction 6 True class: 0\n",
      "Test 74 Prediction 2 True class: 2\n",
      "Test 75 Prediction 2 True class: 2\n",
      "Test 76 Prediction 7 True class: 7\n",
      "Test 77 Prediction 4 True class: 4\n",
      "Test 78 Prediction 2 True class: 2\n",
      "Test 79 Prediction 2 True class: 2\n",
      "Test 80 Prediction 5 True class: 5\n",
      "Test 81 Prediction 0 True class: 5\n",
      "Test 82 Prediction 7 True class: 7\n",
      "Test 83 Prediction 1 True class: 1\n",
      "Test 84 Prediction 0 True class: 2\n",
      "Test 85 Prediction 6 True class: 6\n",
      "Test 86 Prediction 6 True class: 6\n",
      "Test 87 Prediction 8 True class: 8\n",
      "Test 88 Prediction 5 True class: 5\n",
      "Test 89 Prediction 1 True class: 1\n",
      "Test 90 Prediction 7 True class: 7\n",
      "Test 91 Prediction 6 True class: 6\n",
      "Test 92 Prediction 2 True class: 2\n",
      "Test 93 Prediction 3 True class: 3\n",
      "Test 94 Prediction 9 True class: 9\n",
      "Test 95 Prediction 8 True class: 8\n",
      "Test 96 Prediction 9 True class: 9\n",
      "Test 97 Prediction 0 True class: 0\n",
      "Test 98 Prediction 2 True class: 2\n",
      "Test 99 Prediction 3 True class: 3\n",
      "Test 100 Prediction 7 True class: 7\n",
      "Test 101 Prediction 5 True class: 5\n",
      "Test 102 Prediction 9 True class: 9\n",
      "Test 103 Prediction 9 True class: 9\n",
      "Test 104 Prediction 6 True class: 6\n",
      "Test 105 Prediction 1 True class: 1\n",
      "Test 106 Prediction 5 True class: 3\n",
      "Test 107 Prediction 4 True class: 4\n",
      "Test 108 Prediction 6 True class: 6\n",
      "Test 109 Prediction 1 True class: 1\n",
      "Test 110 Prediction 1 True class: 1\n",
      "Test 111 Prediction 5 True class: 5\n",
      "Test 112 Prediction 6 True class: 6\n",
      "Test 113 Prediction 5 True class: 5\n",
      "Test 114 Prediction 2 True class: 2\n",
      "Test 115 Prediction 4 True class: 4\n",
      "Test 116 Prediction 1 True class: 1\n",
      "Test 117 Prediction 7 True class: 2\n",
      "Test 118 Prediction 0 True class: 0\n",
      "Test 119 Prediction 0 True class: 0\n",
      "Test 120 Prediction 5 True class: 5\n",
      "Test 121 Prediction 9 True class: 9\n",
      "Test 122 Prediction 8 True class: 8\n",
      "Test 123 Prediction 4 True class: 4\n",
      "Test 124 Prediction 0 True class: 0\n",
      "Test 125 Prediction 8 True class: 8\n",
      "Test 126 Prediction 5 True class: 5\n",
      "Test 127 Prediction 4 True class: 4\n",
      "Test 128 Prediction 2 True class: 2\n",
      "Test 129 Prediction 9 True class: 9\n",
      "Test 130 Prediction 5 True class: 5\n",
      "Test 131 Prediction 5 True class: 5\n",
      "Test 132 Prediction 6 True class: 6\n",
      "Test 133 Prediction 0 True class: 0\n",
      "Test 134 Prediction 6 True class: 6\n",
      "Test 135 Prediction 1 True class: 1\n",
      "Test 136 Prediction 2 True class: 2\n",
      "Test 137 Prediction 2 True class: 2\n",
      "Test 138 Prediction 2 True class: 2\n",
      "Test 139 Prediction 1 True class: 1\n",
      "Test 140 Prediction 2 True class: 2\n",
      "Test 141 Prediction 2 True class: 2\n",
      "Test 142 Prediction 1 True class: 1\n",
      "Test 143 Prediction 7 True class: 7\n",
      "Test 144 Prediction 0 True class: 0\n",
      "Test 145 Prediction 6 True class: 6\n",
      "Test 146 Prediction 7 True class: 7\n",
      "Test 147 Prediction 0 True class: 0\n",
      "Test 148 Prediction 6 True class: 6\n",
      "Test 149 Prediction 1 True class: 1\n",
      "Test 150 Prediction 1 True class: 1\n",
      "Test 151 Prediction 9 True class: 9\n",
      "Test 152 Prediction 8 True class: 8\n",
      "Test 153 Prediction 5 True class: 5\n",
      "Test 154 Prediction 8 True class: 8\n",
      "Test 155 Prediction 7 True class: 7\n",
      "Test 156 Prediction 4 True class: 2\n",
      "Test 157 Prediction 6 True class: 6\n",
      "Test 158 Prediction 4 True class: 4\n",
      "Test 159 Prediction 5 True class: 8\n",
      "Test 160 Prediction 4 True class: 4\n",
      "Test 161 Prediction 9 True class: 9\n",
      "Test 162 Prediction 1 True class: 1\n",
      "Test 163 Prediction 1 True class: 1\n",
      "Test 164 Prediction 7 True class: 7\n",
      "Test 165 Prediction 9 True class: 9\n",
      "Test 166 Prediction 0 True class: 0\n",
      "Test 167 Prediction 0 True class: 0\n",
      "Test 168 Prediction 8 True class: 8\n",
      "Test 169 Prediction 5 True class: 3\n",
      "Test 170 Prediction 9 True class: 9\n",
      "Test 171 Prediction 0 True class: 0\n",
      "Test 172 Prediction 0 True class: 0\n",
      "Test 173 Prediction 8 True class: 8\n",
      "Test 174 Prediction 3 True class: 3\n",
      "Test 175 Prediction 4 True class: 4\n",
      "Test 176 Prediction 6 True class: 6\n",
      "Test 177 Prediction 6 True class: 6\n",
      "Test 178 Prediction 5 True class: 5\n",
      "Test 179 Prediction 1 True class: 1\n",
      "Test 180 Prediction 5 True class: 6\n",
      "Test 181 Prediction 5 True class: 5\n",
      "Test 182 Prediction 2 True class: 2\n",
      "Test 183 Prediction 2 True class: 8\n",
      "Test 184 Prediction 6 True class: 6\n",
      "Test 185 Prediction 3 True class: 2\n",
      "Test 186 Prediction 7 True class: 7\n",
      "Test 187 Prediction 3 True class: 3\n",
      "Test 188 Prediction 6 True class: 6\n",
      "Test 189 Prediction 8 True class: 8\n",
      "Test 190 Prediction 9 True class: 9\n",
      "Test 191 Prediction 4 True class: 4\n",
      "Test 192 Prediction 3 True class: 5\n",
      "Test 193 Prediction 8 True class: 8\n",
      "Test 194 Prediction 5 True class: 5\n",
      "Test 195 Prediction 6 True class: 6\n",
      "Test 196 Prediction 2 True class: 2\n",
      "Test 197 Prediction 6 True class: 6\n",
      "Test 198 Prediction 6 True class: 6\n",
      "Test 199 Prediction 4 True class: 4\n",
      "Done\n",
      "Accuracy: 0.92\n"
     ]
    }
   ],
   "source": [
    "accuracy = 0\n",
    "with tf.Session() as sess:\n",
    "    sess.run(init)\n",
    "    \n",
    "    #循环测试集\n",
    "    for i in range(len(Xte)):\n",
    "        nn_index = sess.run(pred, feed_dict={xtr: Xtr, xte:Xte[i, :]})\n",
    "        # 得到预测值和真实值，进行比较\n",
    "        print(\"Test\", i, \"Prediction\", np.argmax(Ytr[nn_index]), \n",
    "             \"True class:\", np.argmax(Yte[i]))\n",
    "        if np.argmax(Ytr[nn_index]) == np.argmax(Yte[i]):\n",
    "            accuracy += 1\n",
    "    print(\"Done\")\n",
    "    print(\"Accuracy:\", accuracy / len(Xte))"
   ]
  },
  {
   "cell_type": "code",
   "execution_count": null,
   "metadata": {},
   "outputs": [],
   "source": []
  },
  {
   "cell_type": "markdown",
   "metadata": {},
   "source": [
    "## k-means 聚类算法"
   ]
  },
  {
   "cell_type": "code",
   "execution_count": 37,
   "metadata": {},
   "outputs": [],
   "source": [
    "from __future__ import print_function\n",
    "\n",
    "import numpy as np\n",
    "import tensorflow as tf\n",
    "from tensorflow.contrib.factorization import KMeans"
   ]
  },
  {
   "cell_type": "code",
   "execution_count": 38,
   "metadata": {},
   "outputs": [],
   "source": [
    "# 忽略GPU， 对tf的随机森林算法无影响\n",
    "import os\n",
    "os.environ[\"CUDA_VISIBLE_DEVICES\"] = \"\""
   ]
  },
  {
   "cell_type": "code",
   "execution_count": 40,
   "metadata": {},
   "outputs": [
    {
     "name": "stdout",
     "output_type": "stream",
     "text": [
      "Extracting /tmp/data/train-images-idx3-ubyte.gz\n",
      "Extracting /tmp/data/train-labels-idx1-ubyte.gz\n",
      "Extracting /tmp/data/t10k-images-idx3-ubyte.gz\n",
      "Extracting /tmp/data/t10k-labels-idx1-ubyte.gz\n"
     ]
    }
   ],
   "source": [
    "from tensorflow.examples.tutorials.mnist import input_data\n",
    "mnist = input_data.read_data_sets(\"/tmp/data/\", one_hot=True)\n",
    "full_data_x = mnist.train.images"
   ]
  },
  {
   "cell_type": "code",
   "execution_count": 43,
   "metadata": {},
   "outputs": [],
   "source": [
    "# 参数设置\n",
    "num_steps = 50\n",
    "batch_szie = 1024\n",
    "k = 25 #聚类数目\n",
    "num_classes = 10\n",
    "num_features = 784"
   ]
  },
  {
   "cell_type": "code",
   "execution_count": 46,
   "metadata": {},
   "outputs": [],
   "source": [
    "X = tf.placeholder(tf.float32, [None, 784])\n",
    "Y = tf.placeholder(tf.float32, [None, 10])"
   ]
  },
  {
   "cell_type": "code",
   "execution_count": 47,
   "metadata": {},
   "outputs": [],
   "source": [
    "# k-means 参数\n",
    "kmeans = KMeans(inputs=X, num_clusters=k, distance_metric=\"cosine\", use_mini_batch=True)"
   ]
  },
  {
   "cell_type": "code",
   "execution_count": 52,
   "metadata": {},
   "outputs": [],
   "source": [
    "# 构建计算图\n",
    "(all_scores, cluster_idx, scores, cluster_center_initialized, init_op, train_op) = kmeans.training_graph()\n",
    "cluster_idx = cluster_idx[0]\n",
    "avg_distance = tf.reduce_mean(scores)\n",
    "\n",
    "init_vars = tf.global_variables_initializer()"
   ]
  },
  {
   "cell_type": "code",
   "execution_count": 58,
   "metadata": {},
   "outputs": [
    {
     "name": "stdout",
     "output_type": "stream",
     "text": [
      "Step 1, Avg Distance: 0.341471\n",
      "Step 10, Avg Distance: 0.221609\n",
      "Step 20, Avg Distance: 0.220328\n",
      "Step 30, Avg Distance: 0.219776\n",
      "Step 40, Avg Distance: 0.219419\n",
      "Step 50, Avg Distance: 0.219154\n"
     ]
    }
   ],
   "source": [
    "sess = tf.Session()\n",
    "\n",
    "sess.run(init_vars, feed_dict={X:full_data_x})\n",
    "sess.run(init_op, feed_dict={X:full_data_x})\n",
    "\n",
    "# 训练\n",
    "for i in range(1, num_steps + 1):\n",
    "    _, d, idx = sess.run([train_op, avg_distance, cluster_idx], feed_dict={X:full_data_x})\n",
    "    if i % 10 == 0 or i == 1:\n",
    "        print(\"Step %i, Avg Distance: %f\" % (i, d))"
   ]
  },
  {
   "cell_type": "code",
   "execution_count": 66,
   "metadata": {},
   "outputs": [
    {
     "ename": "NameError",
     "evalue": "name 'labels' is not defined",
     "output_type": "error",
     "traceback": [
      "\u001b[0;31m---------------------------------------------------------------------------\u001b[0m",
      "\u001b[0;31mNameError\u001b[0m                                 Traceback (most recent call last)",
      "\u001b[0;32m<ipython-input-66-27474ddb2e62>\u001b[0m in \u001b[0;36m<module>\u001b[0;34m()\u001b[0m\n\u001b[1;32m      6\u001b[0m \u001b[0;31m#最多出现的即为重心\u001b[0m\u001b[0;34m\u001b[0m\u001b[0;34m\u001b[0m\u001b[0m\n\u001b[1;32m      7\u001b[0m \u001b[0mlabels_map\u001b[0m \u001b[0;34m=\u001b[0m \u001b[0;34m[\u001b[0m\u001b[0mnp\u001b[0m\u001b[0;34m.\u001b[0m\u001b[0margmax\u001b[0m\u001b[0;34m(\u001b[0m\u001b[0mc\u001b[0m\u001b[0;34m)\u001b[0m \u001b[0;32mfor\u001b[0m \u001b[0mc\u001b[0m \u001b[0;32min\u001b[0m \u001b[0mcounts\u001b[0m\u001b[0;34m]\u001b[0m\u001b[0;34m\u001b[0m\u001b[0m\n\u001b[0;32m----> 8\u001b[0;31m \u001b[0mlabels_map\u001b[0m \u001b[0;34m=\u001b[0m \u001b[0mtf\u001b[0m\u001b[0;34m.\u001b[0m\u001b[0mconvert_to_tensor\u001b[0m\u001b[0;34m(\u001b[0m\u001b[0mlabels\u001b[0m\u001b[0;34m)\u001b[0m\u001b[0;34m\u001b[0m\u001b[0m\n\u001b[0m\u001b[1;32m      9\u001b[0m \u001b[0;34m\u001b[0m\u001b[0m\n\u001b[1;32m     10\u001b[0m \u001b[0;31m# 执行操作\u001b[0m\u001b[0;34m\u001b[0m\u001b[0;34m\u001b[0m\u001b[0m\n",
      "\u001b[0;31mNameError\u001b[0m: name 'labels' is not defined"
     ]
    }
   ],
   "source": [
    "# 给每个重心赋值\n",
    "counts = np.zeros([k, num_classes])\n",
    "for i in range(len(idx)):\n",
    "    counts[idx[i]] += mnist.train.labels[i]\n",
    "    \n",
    "#最多出现的即为重心\n",
    "labels_map = [np.argmax(c) for c in counts]\n",
    "labels_map = tf.convert_to_tensor(labels——m)\n",
    "\n",
    "# 执行操作\n",
    "# 查看重心id -> 类别\n",
    "cluster_label = tf.nn.embedding_lookup(labels_map, cluster_idx)\n",
    "\n",
    "corrent_pred = tf.equal(cluster_label, tf.cast(tf.arg_max(Y, 1), tf.int32))\n",
    "accuracy_op = tf.reduce_mean(tf.cast(correct_prediction, tf.float32))\n",
    "\n",
    "# 测试模型\n",
    "test_x, test_y = mnist.test.images, mnist.test.labels\n",
    "print(\"Test Accuracy:\", sess.run(accuracy_op, feed_dict={X: test_x, Y: test_y}))"
   ]
  },
  {
   "cell_type": "code",
   "execution_count": 64,
   "metadata": {},
   "outputs": [
    {
     "data": {
      "text/plain": [
       "<tf.Tensor 'Squeeze_9:0' shape=<unknown> dtype=int64>"
      ]
     },
     "execution_count": 64,
     "metadata": {},
     "output_type": "execute_result"
    }
   ],
   "source": []
  },
  {
   "cell_type": "code",
   "execution_count": null,
   "metadata": {},
   "outputs": [],
   "source": []
  }
 ],
 "metadata": {
  "kernelspec": {
   "display_name": "Python 3",
   "language": "python",
   "name": "python3"
  },
  "language_info": {
   "codemirror_mode": {
    "name": "ipython",
    "version": 3
   },
   "file_extension": ".py",
   "mimetype": "text/x-python",
   "name": "python",
   "nbconvert_exporter": "python",
   "pygments_lexer": "ipython3",
   "version": "3.6.4"
  }
 },
 "nbformat": 4,
 "nbformat_minor": 2
}
