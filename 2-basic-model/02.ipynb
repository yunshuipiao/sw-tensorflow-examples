{
 "cells": [
  {
   "cell_type": "markdown",
   "metadata": {},
   "source": [
    "## Linear Regression with eaget api  (立即执行)"
   ]
  },
  {
   "cell_type": "code",
   "execution_count": 1,
   "metadata": {},
   "outputs": [
    {
     "name": "stderr",
     "output_type": "stream",
     "text": [
      "/anaconda3/lib/python3.6/site-packages/h5py/__init__.py:36: FutureWarning: Conversion of the second argument of issubdtype from `float` to `np.floating` is deprecated. In future, it will be treated as `np.float64 == np.dtype(float).type`.\n",
      "  from ._conv import register_converters as _register_converters\n"
     ]
    }
   ],
   "source": [
    "import matplotlib.pyplot as plt\n",
    "import numpy as np\n",
    "import tensorflow as tf\n",
    "import tensorflow.contrib.eager as tfe"
   ]
  },
  {
   "cell_type": "code",
   "execution_count": 2,
   "metadata": {},
   "outputs": [],
   "source": [
    "tfe.enable_eager_execution()"
   ]
  },
  {
   "cell_type": "code",
   "execution_count": 3,
   "metadata": {},
   "outputs": [],
   "source": [
    "# Training Data\n",
    "train_X = [3.3, 4.4, 5.5, 6.71, 6.93, 4.168, 9.779, 6.182, 7.59, 2.167,\n",
    "           7.042, 10.791, 5.313, 7.997, 5.654, 9.27, 3.1]\n",
    "train_Y = [1.7, 2.76, 2.09, 3.19, 1.694, 1.573, 3.366, 2.596, 2.53, 1.221,\n",
    "           2.827, 3.465, 1.65, 2.904, 2.42, 2.94, 1.3]\n",
    "n_samples = len(train_X)\n",
    "\n",
    "# Parameters\n",
    "learning_rate = 0.01\n",
    "display_step = 100\n",
    "num_steps = 1000"
   ]
  },
  {
   "cell_type": "code",
   "execution_count": 5,
   "metadata": {},
   "outputs": [],
   "source": [
    "W = tfe.Variable(np.random.randn())\n",
    "b = tfe.Variable(np.random.randn())\n",
    "\n",
    "def linear_regerssion(inputs):\n",
    "    return inputs * W + b\n",
    "\n",
    "def mean_square_fn(model_fn, inputs, labels):\n",
    "    return tf.reduce_sum(tf.pow(model_fn(inputs) - labels, 2) / (2* n_samples))"
   ]
  },
  {
   "cell_type": "code",
   "execution_count": 6,
   "metadata": {},
   "outputs": [],
   "source": [
    "#随机梯度下降优化器\n",
    "optimizer = tf.train.GradientDescentOptimizer(learning_rate=learning_rate)\n",
    "\n",
    "# 计算梯度\n",
    "grad = tfe.implicit_gradients(mean_square_fn)"
   ]
  },
  {
   "cell_type": "code",
   "execution_count": 9,
   "metadata": {},
   "outputs": [
    {
     "name": "stdout",
     "output_type": "stream",
     "text": [
      "Ininial cost=8.351940155 W= -0.22717322 b= -0.12936635\n"
     ]
    }
   ],
   "source": [
    "print(\"Ininial cost={:.9f}\".format(mean_square_fn(linear_regerssion, train_X, train_Y)), \n",
    "     \"W=\", W.numpy(), \"b=\", b.numpy())"
   ]
  },
  {
   "cell_type": "code",
   "execution_count": 10,
   "metadata": {},
   "outputs": [
    {
     "name": "stdout",
     "output_type": "stream",
     "text": [
      "Epoch:0100 cost= 0.111499615 W= 0.35704795 b= 0.051470347\n",
      "Epoch:0200 cost= 0.104044080 W= 0.3449918 b= 0.136943\n",
      "Epoch:0300 cost= 0.098196402 W= 0.33431453 b= 0.21264009\n",
      "Epoch:0400 cost= 0.093609810 W= 0.32485843 b= 0.27967963\n",
      "Epoch:0500 cost= 0.090012379 W= 0.31648383 b= 0.33905178\n",
      "Epoch:0600 cost= 0.087190785 W= 0.309067 b= 0.39163354\n",
      "Epoch:0700 cost= 0.084977694 W= 0.3024985 b= 0.4382015\n",
      "Epoch:0800 cost= 0.083241880 W= 0.2966812 b= 0.47944352\n",
      "Epoch:0900 cost= 0.081880398 W= 0.29152924 b= 0.51596856\n",
      "Epoch:1000 cost= 0.080812544 W= 0.28696647 b= 0.54831636\n"
     ]
    },
    {
     "data": {
      "image/png": "[encoded data removed]",
      "text/plain": [
       "<matplotlib.figure.Figure at 0x1c203be710>"
      ]
     },
     "metadata": {},
     "output_type": "display_data"
    }
   ],
   "source": [
    "# 训练\n",
    "for step in range(num_steps):\n",
    "    optimizer.apply_gradients(grad(linear_regerssion, train_X, train_Y))\n",
    "    if (step + 1) % display_step == 0:\n",
    "        print(\"Epoch:\" '%04d' % (step + 1), \"cost=\", \"{:.9f}\".format(mean_square_fn(linear_regerssion, \n",
    "                                                                                   train_X, train_Y)),\n",
    "             \"W=\", W.numpy(), \"b=\", b.numpy())\n",
    "# Graphic display\n",
    "plt.plot(train_X, train_Y, 'ro', label='Original data')\n",
    "plt.plot(train_X, np.array(W * train_X + b), label='Fitted line')\n",
    "plt.legend()\n",
    "plt.show()"
   ]
  },
  {
   "cell_type": "code",
   "execution_count": null,
   "metadata": {},
   "outputs": [],
   "source": []
  }
 ],
 "metadata": {
  "kernelspec": {
   "display_name": "Python 3",
   "language": "python",
   "name": "python3"
  },
  "language_info": {
   "codemirror_mode": {
    "name": "ipython",
    "version": 3
   },
   "file_extension": ".py",
   "mimetype": "text/x-python",
   "name": "python",
   "nbconvert_exporter": "python",
   "pygments_lexer": "ipython3",
   "version": "3.6.4"
  }
 },
 "nbformat": 4,
 "nbformat_minor": 2
}
