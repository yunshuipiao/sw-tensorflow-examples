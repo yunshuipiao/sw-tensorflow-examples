{
 "cells": [
  {
   "cell_type": "markdown",
   "metadata": {},
   "source": [
    "## Linear Regression Example"
   ]
  },
  {
   "cell_type": "code",
   "execution_count": 107,
   "metadata": {},
   "outputs": [],
   "source": [
    "import tensorflow as tf\n",
    "import numpy as np\n",
    "import matplotlib.pyplot as plt"
   ]
  },
  {
   "cell_type": "code",
   "execution_count": 108,
   "metadata": {},
   "outputs": [],
   "source": [
    "# 参数\n",
    "learning_rate = 0.05\n",
    "training_epochs = 1000\n",
    "display_step = 50"
   ]
  },
  {
   "cell_type": "code",
   "execution_count": 109,
   "metadata": {},
   "outputs": [],
   "source": [
    "# 训练数据\n",
    "train_X = np.asarray([3.3,4.4,5.5,6.71,6.93,4.168,9.779,6.182,7.59,2.167,\n",
    "                         7.042,10.791,5.313,7.997,5.654,9.27,3.1])\n",
    "train_Y = np.asarray([1.7,2.76,2.09,3.19,1.694,1.573,3.366,2.596,2.53,1.221,\n",
    "                         2.827,3.465,1.65,2.904,2.42,2.94,1.3])\n",
    "n_samples = train_X.shape[0]"
   ]
  },
  {
   "cell_type": "code",
   "execution_count": 110,
   "metadata": {},
   "outputs": [],
   "source": [
    "# tf输入图形\n",
    "X = tf.placeholder(tf.float32)\n",
    "Y = tf.placeholder(tf.float32)"
   ]
  },
  {
   "cell_type": "code",
   "execution_count": 111,
   "metadata": {},
   "outputs": [],
   "source": [
    "# 设置模型权重和偏置项\n",
    "W = tf.Variable(np.random.randn(), name=\"weight\")\n",
    "b = tf.Variable(np.random.randn(), name=\"bias\")"
   ]
  },
  {
   "cell_type": "code",
   "execution_count": 112,
   "metadata": {},
   "outputs": [],
   "source": [
    "pred = tf.add(tf.multiply(X, W), b)"
   ]
  },
  {
   "cell_type": "code",
   "execution_count": 113,
   "metadata": {},
   "outputs": [],
   "source": [
    "# 均方误差，误差的和 reduce_sum \n",
    "cost = tf.reduce_sum(tf.pow(Y - pred, 2)) / (2 * n_samples)\n",
    "\n",
    "# 梯度下降优化\n",
    "optimizer = tf.train.GradientDescentOptimizer(learning_rate).minimize(cost)"
   ]
  },
  {
   "cell_type": "code",
   "execution_count": 114,
   "metadata": {},
   "outputs": [],
   "source": [
    "# 初始化变量（比如赋予初始值)\n",
    "init = tf.global_variables_initializer()"
   ]
  },
  {
   "cell_type": "code",
   "execution_count": 115,
   "metadata": {},
   "outputs": [
    {
     "name": "stdout",
     "output_type": "stream",
     "text": [
      "Epoch: 0050 cost= 0.079091191 W= 0.25713244 b= 0.7000666\n",
      "Epoch: 0100 cost= 0.078704990 W= 0.2531719 b= 0.7297352\n",
      "Epoch: 0150 cost= 0.078493416 W= 0.25028512 b= 0.7513599\n",
      "Epoch: 0200 cost= 0.078376345 W= 0.248181 b= 0.76712173\n",
      "Epoch: 0250 cost= 0.078310728 W= 0.24664724 b= 0.7786112\n",
      "Epoch: 0300 cost= 0.078273408 W= 0.24552932 b= 0.7869855\n",
      "Epoch: 0350 cost= 0.078251764 W= 0.24471459 b= 0.79308873\n",
      "Epoch: 0400 cost= 0.078238979 W= 0.2441207 b= 0.79753727\n",
      "Epoch: 0450 cost= 0.078231193 W= 0.24368769 b= 0.8007812\n",
      "Epoch: 0500 cost= 0.078226358 W= 0.24337214 b= 0.80314493\n",
      "Epoch: 0550 cost= 0.078223296 W= 0.24314214 b= 0.8048677\n",
      "Epoch: 0600 cost= 0.078221284 W= 0.24297446 b= 0.8061238\n",
      "Epoch: 0650 cost= 0.078219958 W= 0.24285226 b= 0.8070391\n",
      "Epoch: 0700 cost= 0.078219041 W= 0.24276312 b= 0.8077071\n",
      "Epoch: 0750 cost= 0.078218423 W= 0.24269834 b= 0.808192\n",
      "Epoch: 0800 cost= 0.078217983 W= 0.242651 b= 0.8085468\n",
      "Epoch: 0850 cost= 0.078217693 W= 0.24261664 b= 0.8088042\n",
      "Epoch: 0900 cost= 0.078217469 W= 0.24259137 b= 0.80899346\n",
      "Epoch: 0950 cost= 0.078217305 W= 0.24257308 b= 0.8091306\n",
      "Epoch: 1000 cost= 0.078217193 W= 0.24255985 b= 0.80922973\n",
      "Optimization finished!\n",
      "Training cost = 0.07821719 W= 0.24255985 b= 0.80922973 \n",
      "\n"
     ]
    },
    {
     "data": {
      "image/png": "[encoded data removed]",
      "text/plain": [
       "<matplotlib.figure.Figure at 0x1c351bba90>"
      ]
     },
     "metadata": {},
     "output_type": "display_data"
    }
   ],
   "source": [
    "# Start training\n",
    "with tf.Session() as sess:\n",
    "    sess.run(init)\n",
    "    # Fit all training data\n",
    "    for epoch in range(training_epochs):\n",
    "        for (x, y) in zip(train_X, train_Y):\n",
    "            sess.run(optimizer, feed_dict={X:x , Y: y})\n",
    "        if (epoch + 1) % display_step == 0:\n",
    "            c = sess.run(cost, feed_dict={X:train_X, Y:train_Y})\n",
    "            print(\"Epoch:\", \"%04d\" % (epoch + 1), \"cost=\", \"{:.9f}\".format(c), \"W=\", \n",
    "                      sess.run(W), \"b=\", sess.run(b))\n",
    "    print(\"Optimization finished!\")\n",
    "    training_cost = sess.run(cost, feed_dict={X: train_X, Y:train_Y})\n",
    "    print(\"Training cost =\", training_cost, \"W=\", sess.run(W), \"b=\", \n",
    "          sess.run(b), \"\\n\") \n",
    "        #可视化\n",
    "    plt.plot(train_X, train_Y, 'ro', label='original data')\n",
    "    plt.plot(train_X, sess.run(W) * train_X + sess.run(b), label=\"Fitted line\")\n",
    "    plt.legend()\n",
    "    plt.show()"
   ]
  },
  {
   "cell_type": "markdown",
   "metadata": {},
   "source": [
    "## 逻辑回归  使用mnist数据"
   ]
  },
  {
   "cell_type": "code",
   "execution_count": 116,
   "metadata": {},
   "outputs": [
    {
     "name": "stdout",
     "output_type": "stream",
     "text": [
      "Extracting /tmp/data/train-images-idx3-ubyte.gz\n",
      "Extracting /tmp/data/train-labels-idx1-ubyte.gz\n",
      "Extracting /tmp/data/t10k-images-idx3-ubyte.gz\n",
      "Extracting /tmp/data/t10k-labels-idx1-ubyte.gz\n"
     ]
    }
   ],
   "source": [
    "import tensorflow as tf\n",
    "from tensorflow.examples.tutorials.mnist import input_data\n",
    "mnist = input_data.read_data_sets('/tmp/data',one_hot=True)"
   ]
  },
  {
   "cell_type": "code",
   "execution_count": 125,
   "metadata": {},
   "outputs": [],
   "source": [
    "# 参数\n",
    "learning_rate = 0.01\n",
    "training_epochs = 25\n",
    "batch_size = 100\n",
    "display_step = 1"
   ]
  },
  {
   "cell_type": "code",
   "execution_count": 126,
   "metadata": {},
   "outputs": [],
   "source": [
    "# 输入数据\n",
    "x = tf.placeholder(tf.float32, [None, 784]) #表示输入未知个784维特征的实例\n",
    "y = tf.placeholder(tf.float32, [None, 10])\n",
    "\n",
    "# 设置模型权重和偏置\n",
    "W = tf.Variable(tf.zeros([784, 10]))\n",
    "b = tf.Variable(tf.zeros(10))\n",
    "pred = tf.nn.softmax(tf.matmul(x, W) + b)"
   ]
  },
  {
   "cell_type": "code",
   "execution_count": 130,
   "metadata": {},
   "outputs": [],
   "source": [
    "# 使用交叉熵来最小化误差\n",
    "cost = tf.reduce_mean(-tf.reduce_sum(y * tf.log(pred), reduction_indices=1))\n",
    "# 梯度下降\n",
    "optimizer = tf.train.GradientDescentOptimizer(learning_rate).minimize(cost)\n",
    "init = tf.global_variables_initializer()"
   ]
  },
  {
   "cell_type": "code",
   "execution_count": 131,
   "metadata": {},
   "outputs": [
    {
     "name": "stdout",
     "output_type": "stream",
     "text": [
      "Epoch: 0001 cost= 1.184924051\n",
      "Epoch: 0002 cost= 0.665612770\n",
      "Epoch: 0003 cost= 0.552272355\n",
      "Epoch: 0004 cost= 0.497143949\n",
      "Epoch: 0005 cost= 0.467378118\n",
      "Epoch: 0006 cost= 0.442075595\n",
      "Epoch: 0007 cost= 0.423985020\n",
      "Epoch: 0008 cost= 0.414586722\n",
      "Epoch: 0009 cost= 0.402078590\n",
      "Epoch: 0010 cost= 0.391169822\n",
      "Epoch: 0011 cost= 0.384005799\n",
      "Epoch: 0012 cost= 0.378743592\n",
      "Epoch: 0013 cost= 0.373016920\n",
      "Epoch: 0014 cost= 0.366976126\n",
      "Epoch: 0015 cost= 0.361255935\n",
      "Epoch: 0016 cost= 0.359017130\n",
      "Epoch: 0017 cost= 0.353200810\n",
      "Epoch: 0018 cost= 0.353832146\n",
      "Epoch: 0019 cost= 0.347953985\n",
      "Epoch: 0020 cost= 0.344926256\n",
      "Epoch: 0021 cost= 0.343102220\n",
      "Epoch: 0022 cost= 0.339515942\n",
      "Epoch: 0023 cost= 0.338363360\n",
      "Epoch: 0024 cost= 0.334600941\n",
      "Epoch: 0025 cost= 0.337002071\n",
      "Optimization Finished\n"
     ]
    }
   ],
   "source": [
    "with tf.Session() as sess:\n",
    "    sess.run(init)\n",
    "    \n",
    "    for epoch in range(training_epochs):\n",
    "#         print(epoch)\n",
    "        avg_cost = 0\n",
    "        total_batch = int(mnist.train.num_examples/batch_size)\n",
    "        # 针对每一个batch进行训练\n",
    "        for i in range(total_batch):\n",
    "            batch_xs, batch_ys = mnist.train.next_batch(batch_size)\n",
    "            _, c = sess.run([optimizer, cost], feed_dict={x:batch_xs,y:batch_ys})\n",
    "            avg_cost += c / total_batch\n",
    "        if (epoch + 1) % display_step == 0:\n",
    "            print(\"Epoch:\", \"%04d\" % (epoch + 1), \"cost=\", \"{:.9f}\".format(avg_cost))\n",
    "    print(\"Optimization Finished\")\n",
    "    \n",
    "    # 进行测试评估\n",
    "#     correct_prediction = tf.equal(tf.argmax(pred, 1), tf.argmax(y, 1))\n",
    "    "
   ]
  },
  {
   "cell_type": "code",
   "execution_count": null,
   "metadata": {},
   "outputs": [],
   "source": []
  },
  {
   "cell_type": "code",
   "execution_count": null,
   "metadata": {},
   "outputs": [],
   "source": []
  }
 ],
 "metadata": {
  "kernelspec": {
   "display_name": "Python 3",
   "language": "python",
   "name": "python3"
  },
  "language_info": {
   "codemirror_mode": {
    "name": "ipython",
    "version": 3
   },
   "file_extension": ".py",
   "mimetype": "text/x-python",
   "name": "python",
   "nbconvert_exporter": "python",
   "pygments_lexer": "ipython3",
   "version": "3.6.4"
  }
 },
 "nbformat": 4,
 "nbformat_minor": 2
}
