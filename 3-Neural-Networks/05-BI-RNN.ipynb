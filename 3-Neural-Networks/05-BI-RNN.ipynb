{
 "cells": [
  {
   "cell_type": "code",
   "execution_count": 3,
   "metadata": {},
   "outputs": [
    {
     "name": "stdout",
     "output_type": "stream",
     "text": [
      "Extracting /tmp/data/train-images-idx3-ubyte.gz\n",
      "Extracting /tmp/data/train-labels-idx1-ubyte.gz\n",
      "Extracting /tmp/data/t10k-images-idx3-ubyte.gz\n",
      "Extracting /tmp/data/t10k-labels-idx1-ubyte.gz\n"
     ]
    }
   ],
   "source": [
    "from __future__ import print_function\n",
    "import tensorflow as tf\n",
    "from tensorflow.contrib import rnn\n",
    "import numpy as np\n",
    "\n",
    "\n",
    "from tensorflow.examples.tutorials.mnist import input_data\n",
    "mnist = input_data.read_data_sets('/tmp/data/', one_hot=True)"
   ]
  },
  {
   "cell_type": "code",
   "execution_count": 5,
   "metadata": {},
   "outputs": [],
   "source": [
    "# 训练参数\n",
    "learning_rate = 0.001\n",
    "training_steps = 10000\n",
    "batch_size = 128\n",
    "display_step = 500"
   ]
  },
  {
   "cell_type": "code",
   "execution_count": 6,
   "metadata": {},
   "outputs": [],
   "source": [
    "# 神经网络参数\n",
    "num_input = 28\n",
    "timesteps = 28\n",
    "num_hidden = 128\n",
    "num_classes = 10"
   ]
  },
  {
   "cell_type": "code",
   "execution_count": 7,
   "metadata": {},
   "outputs": [],
   "source": [
    "# tf 图形输入\n",
    "X = tf.placeholder('float', [None, timesteps, num_input])\n",
    "Y = tf.placeholder('float', [None, num_classes])"
   ]
  },
  {
   "cell_type": "code",
   "execution_count": 73,
   "metadata": {},
   "outputs": [],
   "source": [
    "# 定义权重\n",
    "weights = {\n",
    "    'out':tf.Variable(tf.random_normal([2 * num_hidden, num_classes]))\n",
    "}\n",
    "biases = {\n",
    "    'out':tf.Variable(tf.random_normal([num_classes]))\n",
    "}"
   ]
  },
  {
   "cell_type": "code",
   "execution_count": 74,
   "metadata": {},
   "outputs": [],
   "source": [
    "def BiRNN(x, weight, biases):\n",
    "    with tf.variable_scope('BiRNN', reuse=tf.AUTO_REUSE):\n",
    "        x = tf.unstack(x, timesteps, 1)\n",
    "        lstm_fw_cell = rnn.BasicLSTMCell(num_hidden, forget_bias=1.0)\n",
    "        lstm_bw_cell = rnn.BasicLSTMCell(num_hidden, forget_bias=1.0)\n",
    "    \n",
    "        try:\n",
    "            outputs, _, _ = rnn.static_bidirectional_rnn(lstm_fw_cell, \n",
    "                                                     lstm_bw_cell, x, dtype=tf.float32)\n",
    "        except Exception:\n",
    "            outputs = rnn.static_bidirectional_rnn(lstm_fw_cell, lstm_bw_cell, x, dtype=tf.float32)\n",
    "    return tf.matmul(outputs[-1], weight['out']) + biases['out']"
   ]
  },
  {
   "cell_type": "code",
   "execution_count": 76,
   "metadata": {},
   "outputs": [],
   "source": [
    "logits = BiRNN(X, weights, biases)\n",
    "prediction = tf.nn.softmax(logits)\n",
    "\n",
    "# Define loss and optimizer\n",
    "loss_op = tf.reduce_mean(tf.nn.softmax_cross_entropy_with_logits(\n",
    "    logits=logits, labels=Y))\n",
    "optimizer = tf.train.GradientDescentOptimizer(learning_rate=learning_rate)\n",
    "train_op = optimizer.minimize(loss_op)\n",
    "\n",
    "# Evaluate model (with test logits, for dropout to be disabled)\n",
    "correct_pred = tf.equal(tf.argmax(prediction, 1), tf.argmax(Y, 1))\n",
    "accuracy = tf.reduce_mean(tf.cast(correct_pred, tf.float32))"
   ]
  },
  {
   "cell_type": "code",
   "execution_count": 78,
   "metadata": {},
   "outputs": [
    {
     "name": "stdout",
     "output_type": "stream",
     "text": [
      "Step 1, Minibatch Loss= 2.7886, Training Accuracy= 0.141\n",
      "Step 500, Minibatch Loss= 1.9442, Training Accuracy= 0.352\n",
      "Step 1000, Minibatch Loss= 1.7257, Training Accuracy= 0.453\n",
      "Step 1500, Minibatch Loss= 1.3891, Training Accuracy= 0.547\n",
      "Step 2000, Minibatch Loss= 1.1426, Training Accuracy= 0.688\n",
      "Step 2500, Minibatch Loss= 1.1836, Training Accuracy= 0.617\n",
      "Step 3000, Minibatch Loss= 1.1274, Training Accuracy= 0.648\n",
      "Step 3500, Minibatch Loss= 1.0606, Training Accuracy= 0.680\n",
      "Step 4000, Minibatch Loss= 0.9879, Training Accuracy= 0.656\n",
      "Step 4500, Minibatch Loss= 0.8396, Training Accuracy= 0.703\n",
      "Step 5000, Minibatch Loss= 0.7576, Training Accuracy= 0.812\n",
      "Step 5500, Minibatch Loss= 0.7277, Training Accuracy= 0.797\n",
      "Step 6000, Minibatch Loss= 0.7012, Training Accuracy= 0.789\n",
      "Step 6500, Minibatch Loss= 0.8003, Training Accuracy= 0.766\n",
      "Step 7000, Minibatch Loss= 0.8509, Training Accuracy= 0.734\n",
      "Step 7500, Minibatch Loss= 0.6206, Training Accuracy= 0.812\n",
      "Step 8000, Minibatch Loss= 0.5515, Training Accuracy= 0.820\n",
      "Step 8500, Minibatch Loss= 0.5695, Training Accuracy= 0.820\n",
      "Step 9000, Minibatch Loss= 0.4393, Training Accuracy= 0.891\n",
      "Step 9500, Minibatch Loss= 0.5786, Training Accuracy= 0.797\n",
      "Step 10000, Minibatch Loss= 0.4801, Training Accuracy= 0.859\n",
      "Optimization Finished!\n",
      "Testing Accuracy: 0.8671875\n"
     ]
    }
   ],
   "source": [
    "# Start training\n",
    "with tf.Session() as sess:\n",
    "\n",
    "    # Run the initializer\n",
    "    sess.run(tf.global_variables_initializer())\n",
    "\n",
    "    for step in range(1, training_steps+1):\n",
    "        batch_x, batch_y = mnist.train.next_batch(batch_size)\n",
    "        # Reshape data to get 28 seq of 28 elements\n",
    "        batch_x = batch_x.reshape((batch_size, timesteps, num_input))\n",
    "        # Run optimization op (backprop)\n",
    "        sess.run(train_op, feed_dict={X: batch_x, Y: batch_y})\n",
    "        if step % display_step == 0 or step == 1:\n",
    "            # Calculate batch loss and accuracy\n",
    "            loss, acc = sess.run([loss_op, accuracy], feed_dict={X: batch_x,\n",
    "                                                                 Y: batch_y})\n",
    "            print(\"Step \" + str(step) + \", Minibatch Loss= \" + \\\n",
    "                  \"{:.4f}\".format(loss) + \", Training Accuracy= \" + \\\n",
    "                  \"{:.3f}\".format(acc))\n",
    "\n",
    "    print(\"Optimization Finished!\")\n",
    "\n",
    "    # Calculate accuracy for 128 mnist test images\n",
    "    test_len = 128\n",
    "    test_data = mnist.test.images[:test_len].reshape((-1, timesteps, num_input))\n",
    "    test_label = mnist.test.labels[:test_len]\n",
    "    print(\"Testing Accuracy:\", \\\n",
    "        sess.run(accuracy, feed_dict={X: test_data, Y: test_label}))"
   ]
  },
  {
   "cell_type": "code",
   "execution_count": null,
   "metadata": {},
   "outputs": [],
   "source": []
  }
 ],
 "metadata": {
  "kernelspec": {
   "display_name": "Python 3",
   "language": "python",
   "name": "python3"
  },
  "language_info": {
   "codemirror_mode": {
    "name": "ipython",
    "version": 3
   },
   "file_extension": ".py",
   "mimetype": "text/x-python",
   "name": "python",
   "nbconvert_exporter": "python",
   "pygments_lexer": "ipython3",
   "version": "3.6.4"
  }
 },
 "nbformat": 4,
 "nbformat_minor": 2
}
